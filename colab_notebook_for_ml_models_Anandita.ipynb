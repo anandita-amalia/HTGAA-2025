{
  "nbformat": 4,
  "nbformat_minor": 0,
  "metadata": {
    "colab": {
      "private_outputs": true,
      "provenance": [],
      "gpuType": "T4",
      "include_colab_link": true
    },
    "kernelspec": {
      "name": "python3",
      "display_name": "Python 3"
    },
    "language_info": {
      "name": "python"
    },
    "accelerator": "GPU"
  },
  "cells": [
    {
      "cell_type": "markdown",
      "metadata": {
        "id": "view-in-github",
        "colab_type": "text"
      },
      "source": [
        "<a href=\"https://colab.research.google.com/github/anandita-amalia/HTGAA-2025/blob/main/colab_notebook_for_ml_models_Anandita.ipynb\" target=\"_parent\"><img src=\"https://colab.research.google.com/assets/colab-badge.svg\" alt=\"Open In Colab\"/></a>"
      ]
    },
    {
      "cell_type": "markdown",
      "source": [
        "## Install Libraries"
      ],
      "metadata": {
        "id": "wBczXoGXD2El"
      }
    },
    {
      "cell_type": "code",
      "source": [
        "!pip install aiohttp"
      ],
      "metadata": {
        "id": "G90QR7IBDyiS"
      },
      "execution_count": null,
      "outputs": []
    },
    {
      "cell_type": "markdown",
      "source": [
        "# Set password for this notebook"
      ],
      "metadata": {
        "id": "-YOkqNSmTi1k"
      }
    },
    {
      "cell_type": "code",
      "source": [
        "auth_token = \"hgtaaproteindesign2025\" # \"as-C8Ys4f9HASQilsKbtJPYPK\"\n",
        "headers = {\n",
        "        \"Authorization\": f\"Bearer {auth_token}\",\n",
        "        \"Content-Type\": \"application/json\"\n",
        "}"
      ],
      "metadata": {
        "id": "rsgQ2wQBTgYH"
      },
      "execution_count": null,
      "outputs": []
    },
    {
      "cell_type": "markdown",
      "source": [
        "# Cleaning and Renumbering your PDB\n",
        "\n",
        "Sometimes, PDBs will start at position 20, this is because PDB's often contain sub components of a bigger protein sequence (You can refer to [UniProt](https://www.uniprot.org/) for the full sequence). If you want to renumber your protein to be numbered from position 1, use the following code. This will also clean your protein by fixing any chain breaks etc."
      ],
      "metadata": {
        "id": "OZAN9_XfGKWb"
      }
    },
    {
      "cell_type": "code",
      "source": [
        "import aiohttp\n",
        "import asyncio\n",
        "from google.colab import files\n",
        "\n",
        "# @markdown MSKGEELFTGVVPILVELDGDVNGHKFSVSGEGEGDATYGKLTLKFICTTGKLPVPWPTL\n",
        "# @markdown VTTFSYGVQCFSRYPDHMKQHDFFKSAMPEGYVQERTIFFKDDGNYKTRAEVKFEGDTLV\n",
        "# @markdown NRIELKGIDFKEDGNILGHKLEYNYNSHNVYIMADKQKNGIKVNFKIRHNIEDGSVQLAD\n",
        "# @markdown HYQQNTPIGDGPVLLPDNHYLSTQSALSKDPNEKRDHMVLLEFVTAAGITHGMDELYK\n",
        "upload_dict = files.upload()\n",
        "pdb_string = upload_dict[list(upload_dict.keys())[0]]\n",
        "with open(\"tmp.pdb\",\"wb\") as out: out.write(pdb_string)\n",
        "\n",
        "\n",
        "async def post_clean_pdb(url: str, pdb_string: str):\n",
        "    payload = {\n",
        "        \"pdb_string\": pdb_string\n",
        "    }\n",
        "    async with aiohttp.ClientSession() as session:\n",
        "        async with session.post(url, json=payload,timeout=60*60,headers=headers) as response:\n",
        "            response_json = await response.json()\n",
        "            return response_json\n",
        "\n",
        "url = \"https://molecularmachines--pdbfixer-fastapi-app.modal.run/fixpdb\"\n",
        "response_data = await post_clean_pdb(url, open(\"tmp.pdb\",\"r\").read())\n",
        "filename = list(upload_dict.keys())[0]\n",
        "filename_fixed= f\"{filename.replace('.pdb','')}_fixed.pdb\"\n",
        "with open(filename_fixed,\"w\") as f:\n",
        "  f.write(response_data[\"data\"])\n",
        "import aiohttp\n",
        "import asyncio\n",
        "from google.colab import files\n",
        "\n",
        "#@markdown #### Upload a PDB File\n",
        "upload_dict = files.upload()\n",
        "pdb_string = upload_dict[list(upload_dict.keys())[0]]\n",
        "with open(\"tmp.pdb\",\"wb\") as out: out.write(pdb_string)\n",
        "\n",
        "\n",
        "\n",
        "\n"
      ],
      "metadata": {
        "id": "eXbU8nu8Glid"
      },
      "execution_count": null,
      "outputs": []
    },
    {
      "cell_type": "code",
      "source": [
        "pdb_string"
      ],
      "metadata": {
        "collapsed": true,
        "id": "qkc9x1DyeyYh"
      },
      "execution_count": null,
      "outputs": []
    },
    {
      "cell_type": "markdown",
      "source": [
        "# ProteinMPNN : Generating Sequences From a Protein Structure\n",
        "\n",
        "This code runs the ProteinMPNN model and gives you a set of sequences for the pdb sturcture provided. If your pdb has more than chain, then you should also specify the chain that you want to make proposal sequences for. Note that these sequences are predicted to fold into the same structure as the provided PDB but there is no guarantee that they will perform the same function.  "
      ],
      "metadata": {
        "id": "PTM1mSG9DwI8"
      }
    },
    {
      "cell_type": "code",
      "execution_count": null,
      "metadata": {
        "id": "V7LUEzrQAC77"
      },
      "outputs": [],
      "source": [
        "import aiohttp\n",
        "import asyncio\n",
        "from google.colab import files\n",
        "\n",
        "#@markdown #### Upload a PDB File\n",
        "chains = \"A\" #@param {type:\"string\"}\n",
        "temp = \"0.1\" #@param {type:\"string\"}\n",
        "num_seqs = \"1\" #@param {type:\"string\"}\n",
        "#@markdown #### Fix some positions in the protein sequence and only sample new amino acids at other positions.\n",
        "fix_pos = \"1\" #@param {type:\"string\"}\n",
        "#@markdown - specify which positions to keep fixed in the sequence (example: `1,2-10`)\n",
        "#@markdown - you can also specify chain specific constraints (example: `A1-10,B1-20`)\n",
        "#@markdown - you can also specify to fix entire chain(s) (example: `A`)\n",
        "\n",
        "#@markdown #### If you want to do the inverse of the fix positions where you only sample at the residues specified but not at the other locations check the following box\n",
        "inverse = True #@param {type:\"boolean\"}\n",
        "\n",
        "\n",
        "upload_dict = files.upload()\n",
        "pdb_string = upload_dict[list(upload_dict.keys())[0]]\n",
        "with open(\"tmp.pdb\",\"wb\") as out: out.write(pdb_string)\n",
        "\n",
        "auth_token = \"hgtaaproteindesign2025\"  # Define auth_token here\n",
        "headers = {\n",
        "    \"Authorization\": f\"Bearer {auth_token}\",\n",
        "    \"Content-Type\": \"application/json\"\n",
        "}  # Define headers here\n",
        "\n",
        "async def post_sample_request(url: str, pdb_string: str, mpnn_config: dict):\n",
        "    payload = {\n",
        "        \"pdb_string\": pdb_string,\n",
        "        \"params\": mpnn_config\n",
        "    }\n",
        "    async with aiohttp.ClientSession() as session:\n",
        "        async with session.post(url, json=payload,timeout=60*60,headers=headers) as response:\n",
        "            try:\n",
        "                text_response = await response.text()\n",
        "                print(\"Raw response:\", text_response)\n",
        "                response_json = await response.json()\n",
        "                return response_json\n",
        "            except Exception as e:\n",
        "                print(\"Error processing response:\", e)\n",
        "                print(\"Response content:\", await response.text())\n",
        "                return {\"error\": str(e)}\n",
        "\n",
        "url = \"https://molecularmachines--colabdesign-fastapi-app.modal.run/sample\"\n",
        "pdb_string = open(\"tmp.pdb\",\"r\").read()\n",
        "\n",
        "mpnn_config = {\n",
        "    \"fix_pos\": fix_pos,\n",
        "    \"inverse\": inverse,\n",
        "    \"temp\": float(temp),\n",
        "    \"batch\": int(num_seqs),\n",
        "    \"chains\": chains\n",
        "}\n",
        "response_data = await post_sample_request(url, pdb_string, mpnn_config)\n",
        "response_data"
      ]
    },
    {
      "cell_type": "markdown",
      "source": [
        "# AlphaFold : Fold a protein using it's sequence\n",
        "\n",
        "This code will run alphafold model and return a PDB structure that is the predicted structure for that sequence. You can evaluate how good the predicted structure is by using how confident AlphaFold is about its prediction. High confidence is usually a good indicator for correlating with the ground truth structure."
      ],
      "metadata": {
        "id": "ky9-1p_YG92E"
      }
    },
    {
      "cell_type": "code",
      "source": [
        "import aiohttp\n",
        "import asyncio\n",
        "from google.colab import files\n",
        "\n",
        "\n",
        "#@markdown #### Input the sequence you would like to fold. Output will be in the files under ```output_predicted.pdb```\n",
        "sequence = \"MASSVTPLGSWVLLHHHPSTILTQSRSRSPPSLITLKPISLTPKRTVSSSSSSSLITKEDNNLKSSSSSFDFMSYIIRKADSVNKALDSAVPLREPLKIHEAMRYSLLAGGKRVRPVLCIAACELVGGEESLAMPARCAVEMIHTMSLIHDDLPCMDNDDLRRGKPTNHKVYGEDVAVLA GDALLSFAFEHLASATSSEVSPARVVRAVGELAKAIGTEGLVAGQVVDISSEGLDLNNVGLEHLKFIHLHKTAALLEASAVLGGIIGGGSDEEIERLRKFARCIGLLFQVVDDILDVTKSSQELGKTAGKDLIADKLTYPKLMGLEKSREFAEKLNTEARDQLLGFDSDKVAPLLALANYIANRQN\" #@param {type:\"string\"}\n",
        "\n",
        "auth_token = \"hgtaaproteindesign2025\"  # Replace with your actual auth token\n",
        "headers = {\n",
        "    \"Authorization\": f\"Bearer {auth_token}\",\n",
        "    \"Content-Type\": \"application/json\"\n",
        "}\n",
        "async def post_fold_request(url:str,sequence:str):\n",
        "    payload = {\n",
        "        \"sequence\": sequence\n",
        "    }\n",
        "    print(\"starting to communicate\")\n",
        "    async with aiohttp.ClientSession() as session:\n",
        "        print(\"session created\")\n",
        "        async with session.post(url, json=payload,headers=headers,timeout=60*60) as response:\n",
        "            response_json = await response.json()\n",
        "            print(\"complete, json found and returning\")\n",
        "            return response_jsonimport\n",
        "\n",
        "alphafold_url = \"https://molecularmachines--colabfold-fastapi-app.modal.run/alphafold/monomer\"\n",
        "\n",
        "response_data = await post_fold_request(alphafold_url, sequence)\n",
        "with open(\"output_predicted.pdb\",\"w\") as f:\n",
        "  f.write(response_data['results']['predicted_output'])"
      ],
      "metadata": {
        "id": "EPXil3KMCYV7"
      },
      "execution_count": null,
      "outputs": []
    },
    {
      "cell_type": "markdown",
      "source": [
        "# AlphaFold-Multimer Fold multiple sequences to predict protein complex structure\n",
        "\n",
        "This code will run alphafold model and return a PDB structure that is the predicted structure of two sequences. You can evaluate how good the predicted structure is by using how confident AlphaFold is about its prediction. High confidence is usually a good indicator for correlating with the ground truth structure."
      ],
      "metadata": {
        "id": "38gFJBazNdzJ"
      }
    },
    {
      "cell_type": "code",
      "source": [
        "import aiohttp\n",
        "import asyncio\n",
        "\n",
        "#@markdown #### Input the sequences you would like to fold. Output will be in the files under ```output_predicted_complex.pdb```\n",
        "sequence1 = \"MADQLTDEQIAEFKEAFSLFDKDGDGCITTKELGTVMRSLGQNPTEAELQDMINEVDADG NGTIDFPEFLNLMARKMKDTDSEEELKEAFRVFDKDQDGFISAAELRHVMTNLGEKLTDE EVDEMIREADVDGDGQINYEEFVKVMMAK\" #@param {type:\"string\"}\n",
        "# sequence2 = \"MGVHECPAWLWLLLSLLSLPLGLPVLGAPPRLICDSRVLERYLLEAKEAENITTGCAEHCSLNENITVPDTKVNFYAWKRMEVGQQAVEVWQGLALLSEAVLRGQALLVNSSQPWEPLQLHVDKAVSGLRSLTTLLRALGAQKEAISPPDAASAAPLRTITADTFRKLFRVYSNFLRGKLKLYTGEACRTGDR\" #@param {type:\"string\"}\n",
        "\n",
        "async def post_multimer_request(url:str,sequence1:str,sequence2:str):\n",
        "    payload = {\n",
        "        \"sequences\": [sequence1],\n",
        "        \"target_sequence\":sequence2\n",
        "    }\n",
        "    async with aiohttp.ClientSession() as session:\n",
        "      async with session.post(url, json=payload,headers=headers,timeout=60*60) as response:\n",
        "            response_json = await response.json()\n",
        "            return response_json\n",
        "url = \"https://molecularmachines--colabfold-fastapi-app.modal.run/alphafold/multimer\"\n",
        "\n",
        "response_data = await post_multimer_request(url, sequence1, sequence2)\n",
        "pdb_string = response_data[\"results\"][0][\"pdb_str\"]\n",
        "with open(\"output_predicted_complex.pdb\",\"w\") as f:\n",
        "  f.write(pdb_string)"
      ],
      "metadata": {
        "id": "BMPd2ovwNpIa"
      },
      "execution_count": null,
      "outputs": []
    },
    {
      "cell_type": "code",
      "source": [
        "import pymol\n",
        "from pymol import cmd\n",
        "import requests\n",
        "\n",
        "# Function to predict structure using ESMFold API (faster than AlphaFold)\n",
        "def predict_structure_fasta(sequence, output_file=\"predicted_gfp.pdb\"):\n",
        "    url = \"https://api.esmatlas.com/foldSequence/v1/pdb/\"\n",
        "    response = requests.post(url, data=sequence)\n",
        "    if response.status_code == 200:\n",
        "        with open(output_file, \"w\") as f:\n",
        "            f.write(response.text)\n",
        "        print(\"Predicted structure saved as\", output_file)\n",
        "    else:\n",
        "        print(\"Error predicting structure:\", response.text)\n",
        "\n",
        "# GFP amino acid sequence (from UniProt P42212)\n",
        "gfp_sequence = \"\"\"MSKGEELFTGVVPILVELDGDVNGHKFSVSGEGEGDATYGKLTLKFICTTGKLPVPWPTLVTTFSYGVQCFSRYPDHMKQHDFFKSAMPEGYVQERTIFFKDDGNYKTRAEVKFEGDTLVNRIELKGIDFKEDGNILGHKLEYNYNSHNVYIMADKQKNGIKVNFKIRHNIEDGSVQLADHYQQNTPIGDGPVLLPDNHYLSTQSALSKDPNEKRDHMVLLEFVTAAGITHGMDELYK\"\"\"\n",
        "\n",
        "# Predict structure and save as PDB\n",
        "predict_structure_fasta(gfp_sequence)\n",
        "\n",
        "# Start PyMOL\n",
        "pymol.finish_launching()\n",
        "\n",
        "# Load the experimental GFP structure from RCSB PDB\n",
        "cmd.fetch('1GFL', 'real_gfp')\n",
        "\n",
        "# Load the predicted structure\n",
        "cmd.load('predicted_gfp.pdb', 'pred_gfp')\n",
        "\n",
        "# Align predicted and real structure\n",
        "cmd.align('pred_gfp', 'real_gfp')\n",
        "\n",
        "# Color the structures for visualization\n",
        "cmd.color('cyan', 'real_gfp')  # Experimental structure in cyan\n",
        "cmd.color('magenta', 'pred_gfp')  # Predicted structure in magenta\n",
        "\n",
        "# Show as cartoon representation\n",
        "cmd.show('cartoon', 'real_gfp')\n",
        "cmd.show('cartoon', 'pred_gfp')\n",
        "cmd.png('gfp_real_vs_predicted.png')\n",
        "cmd.refresh()\n",
        "\n",
        "print(\"Comparison complete. Check the PyMOL visualization.\")\n"
      ],
      "metadata": {
        "id": "ETWFHkxKf4yF"
      },
      "execution_count": null,
      "outputs": []
    },
    {
      "cell_type": "code",
      "source": [],
      "metadata": {
        "id": "Cnk7dWTigITK"
      },
      "execution_count": null,
      "outputs": []
    },
    {
      "cell_type": "markdown",
      "source": [
        "# Embed a protein sequence with ESMC model\n",
        "\n",
        "Embeds a protein sequence with ESMC - https://www.evolutionaryscale.ai/blog/esm-cambrian and gives you a list of numbers which is the embedding of that sequence"
      ],
      "metadata": {
        "id": "XagJNyaTPTO0"
      }
    },
    {
      "cell_type": "code",
      "source": [
        "import aiohttp\n",
        "import asyncio\n",
        "\n",
        "#@markdown #### Input the sequence you would like to fold. Output will be in the files under ```output_predicted.pdb```\n",
        "sequence = \"MSKGEELFTGVVPILVELDGDVNGHKFSVSGEGEGDATYGKLTLKFICTTGKLPVPWPTL VTTFSYGVQCFSRYPDHMKQHDFFKSAMPEGYVQERTIFFKDDGNYKTRAEVKFEGDTLV NRIELKGIDFKEDGNILGHKLEYNYNSHNVYIMADKQKNGIKVNFKIRHNIEDGSVQLAD HYQQNTPIGDGPVLLPDNHYLSTQSALSKDPNEKRDHMVLLEFVTAAGITHGMDELYK\" #@param {type:\"string\"}\n",
        "\n",
        "async def post_embedding(url:str,sequence:str):\n",
        "    payload = {\n",
        "        \"sequence\": sequence\n",
        "    }\n",
        "\n",
        " async with aiohttp.ClientSession() as session:\n",
        "    async with session.post(url, json=payload,headers=headers) as response:\n",
        "            # Check if the response is successful before attempting to parse JSON\n",
        "            if response.status == 200:\n",
        "                response_json = await response.json()\n",
        "                return response_json\n",
        "            else:\n",
        "                # Handle the error, e.g., print the error message or raise an exception\n",
        "                error_text = await response.text()\n",
        "                print(f\"Error: {response.status} - {error_text}\")\n",
        "                # You can choose to re-raise the exception or return an error value\n",
        "                # raise Exception(f\"Error: {response.status} - {error_text}\")\n",
        "                return {\"error\": error_text}  # Or return an error dictionary\n",
        "\n",
        "esm_url = \"https://molecularmachines--esm-fast-app.modal.run/esm/embedding\"\n",
        "\n",
        "response_data = await post_embedding(esm_url, sequence)\n",
        "embedding = response_data\n",
        "\n",
        "# Check if there was an error before accessing the 'pll' key\n",
        "if \"error\" not in embedding:\n",
        "    print(f\"pseudo log likelihood score is {embedding['pll']}\")\n",
        "else:\n",
        "    print(\"Could not retrieve embedding. See error message above.\")"
      ],
      "metadata": {
        "id": "1OSNLhNcPSri"
      },
      "execution_count": null,
      "outputs": []
    },
    {
      "cell_type": "markdown",
      "source": [
        "# Make a binder with BindCraft\n",
        "\n",
        "Make a binder for the provided target pdb"
      ],
      "metadata": {
        "id": "TzEoR2SxAwgv"
      }
    },
    {
      "cell_type": "code",
      "source": [
        "import aiohttp\n",
        "import asyncio\n",
        "from google.colab import files\n",
        "#@markdown #### Input the sequence you would like to fold. Output will be in the files under ```output_predicted.pdb```\n",
        "upload_dict = files.upload()\n",
        "pdb_string = upload_dict[list(upload_dict.keys())[0]]\n",
        "with open(\"tmp.pdb\",\"wb\") as out: out.write(pdb_string)\n",
        "\n",
        "\n",
        "chains = \"A\" #@param {type:\"string\"}\n",
        "binder_length_range = \"3,4\" #@param {type:\"string\"}\n",
        "num_seqs = \"1\" #@param {type:\"string\"}\n",
        "target_hotspot_residues = \"A1-100\" # @param {\"type\":\"string\",\"placeholder\":\"\"}\n",
        "\n",
        "async def post_embedding(url:str):\n",
        "    payload={\n",
        "                \"pdb_str\": open(\"tmp.pdb\",\"r\").read(),\n",
        "                \"chains\": chains,\n",
        "                \"lengths\": binder_length_range,\n",
        "                \"num_samples\": int(num_seqs),\n",
        "                \"fold_conditioning\": \"Default\",\n",
        "                \"target_hotspot_residues\":target_hotspot_residues\n",
        "            }\n",
        "\n",
        "    async with aiohttp.ClientSession() as session:\n",
        "        async with session.post(url, json=payload,headers=headers,timeout=60*60) as response:\n",
        "            response_json = await response.json()\n",
        "            return response_json\n",
        "\n",
        "esm_url = \"https://molecularmachines--bindcraft-fast-app.modal.run/bindcraft/design_binder_wrapper\"\n",
        "\n",
        "response_data = await post_embedding(esm_url)\n",
        "response_data"
      ],
      "metadata": {
        "id": "9a2GW1BoAw5o"
      },
      "execution_count": null,
      "outputs": []
    },
    {
      "cell_type": "markdown",
      "source": [
        "# Fold a protein and ligand with boltz-1\n",
        "\n"
      ],
      "metadata": {
        "id": "u8VfdAV0G7Dy"
      }
    },
    {
      "cell_type": "code",
      "source": [
        "import aiohttp\n",
        "import asyncio\n",
        "from google.colab import files\n",
        "import json\n",
        "import aiohttp\n",
        "\n",
        "\n",
        "protein_sequence = \"MSKGEELFTGVVPILVELDGDVNGHKFSVSGEGEGDATYGKLTLKFICTTGKLPVPWPTL VTTFSYGVQCFSRYPDHMKQHDFFKSAMPEGYVQERTIFFKDDGNYKTRAEVKFEGDTLV NRIELKGIDFKEDGNILGHKLEYNYNSHNVYIMADKQKNGIKVNFKIRHNIEDGSVQLAD HYQQNTPIGDGPVLLPDNHYLSTQSALSKDPNEKRDHMVLLEFVTAAGITHGMDELYK\" #@param {type:\"string\"}\n",
        "ligand_sequence = \"N[C@@H](Cc1ccc(O)cc1)C(=O)O\" #@param {type:\"string\"}\n",
        "async def post_embedding(url:str):\n",
        "    payload={\n",
        "              \"protein_sequence\":protein_sequence,\n",
        "              \"ligand_sequence\":ligand_sequence\n",
        "            }\n",
        "\n",
        "    async with aiohttp.ClientSession() as session:\n",
        "        async with session.post(url, json=payload,headers=headers,timeout=60*60) as response:\n",
        "            output_bytes = await response.read()\n",
        "\n",
        "            # Write the received bytes to a file named 'output.zip'\n",
        "            with open(\"boltz_output.zip\", \"wb\") as f:\n",
        "                f.write(output_bytes)\n",
        "\n",
        "            return \"Response written to boltz_output.zip\"\n",
        "\n",
        "esm_url = \"https://molecularmachines--boltz1-fastapi-app.modal.run/infer\"\n",
        "\n",
        "response_data = await post_embedding(esm_url)\n",
        "response_data"
      ],
      "metadata": {
        "id": "0tI9wnkGHBYW"
      },
      "execution_count": null,
      "outputs": []
    },
    {
      "cell_type": "code",
      "source": [
        "from google.colab import files\n",
        "files.download(\"boltz_output.zip\")"
      ],
      "metadata": {
        "id": "jZUOhpzDEqCn"
      },
      "execution_count": null,
      "outputs": []
    },
    {
      "cell_type": "code",
      "source": [
        "import aiohttp\n",
        "import asyncio\n",
        "from google.colab import files\n",
        "import requests\n",
        "import pymol\n",
        "from pymol import cmd\n",
        "\n",
        "# Install necessary libraries\n",
        "!pip install aiohttp\n",
        "\n",
        "# Set authentication token\n",
        "auth_token = \"hgtaaproteindesign2025\"\n",
        "headers = {\n",
        "    \"Authorization\": f\"Bearer {auth_token}\",\n",
        "    \"Content-Type\": \"application/json\"\n",
        "}\n",
        "\n",
        "# GFP amino acid sequence\n",
        "gfp_sequence = \"MSKGEELFTGVVPILVELDGDVNGHKFSVSGEGEGDATYGKLTLKFICTTGKLPVPWPTLVTTFSYGVQCFSRYPDHMKQHDFFKSAMPEGYVQERTIFFKDDGNYKTRAEVKFEGDTLVNRIELKGIDFKEDGNILGHKLEYNYNSHNVYIMADKQKNGIKVNFKIRHNIEDGSVQLADHYQQNTPIGDGPVLLPDNHYLSTQSALSKDPNEKRDHMVLLEFVTAAGITHGMDELYK\"\n",
        "\n",
        "# Predict structure using AlphaFold API\n",
        "async def post_fold_request(url: str, sequence: str):\n",
        "    payload = {\"sequence\": sequence}\n",
        "    async with aiohttp.ClientSession() as session:\n",
        "        async with session.post(url, json=payload, headers=headers, timeout=60*60) as response:\n",
        "            response_json = await response.json()\n",
        "            return response_json\n",
        "\n",
        "# AlphaFold URL\n",
        "alphafold_url = \"https://molecularmachines--colabfold-fastapi-app.modal.run/alphafold/monomer\"\n",
        "\n",
        "# Predict GFP structure\n",
        "response_data = await post_fold_request(alphafold_url, gfp_sequence)\n",
        "\n",
        "# Save predicted structure\n",
        "with open(\"predicted_gfp.pdb\", \"w\") as f:\n",
        "    f.write(response_data['results']['predicted_output'])\n",
        "\n",
        "# Load real and predicted structures into PyMOL\n",
        "pymol.finish_launching()\n",
        "cmd.fetch('1GFL', 'real_gfp')\n",
        "cmd.load('predicted_gfp.pdb', 'pred_gfp')\n",
        "cmd.align('pred_gfp', 'real_gfp')\n",
        "\n",
        "# Color and visualize\n",
        "cmd.color('cyan', 'real_gfp')  # Experimental structure in cyan\n",
        "cmd.color('magenta', 'pred_gfp')  # Predicted structure in magenta\n",
        "cmd.show('cartoon', 'real_gfp')\n",
        "cmd.show('cartoon', 'pred_gfp')\n",
        "cmd.png('gfp_real_vs_predicted.png')\n",
        "cmd.refresh()\n",
        "\n",
        "print(\"Comparison complete. Check the PyMOL visualization.\")\n"
      ],
      "metadata": {
        "id": "LlNJuWUZgY41"
      },
      "execution_count": null,
      "outputs": []
    },
    {
      "cell_type": "code",
      "source": [
        "import aiohttp\n",
        "import asyncio\n",
        "from google.colab import files\n",
        "import requests\n",
        "import pymol\n",
        "from pymol import cmd\n",
        "\n",
        "# Install necessary libraries\n",
        "!pip install aiohttp\n",
        "\n",
        "# Set authentication token\n",
        "auth_token = \"hgtaaproteindesign2025\"\n",
        "headers = {\n",
        "    \"Authorization\": f\"Bearer {auth_token}\",\n",
        "    \"Content-Type\": \"application/json\"\n",
        "}\n",
        "\n",
        "# GFP amino acid sequence\n",
        "gfp_sequence = \"MSKGEELFTGVVPILVELDGDVNGHKFSVSGEGEGDATYGKLTLKFICTTGKLPVPWPTLVTTFSYGVQCFSRYPDHMKQHDFFKSAMPEGYVQERTIFFKDDGNYKTRAEVKFEGDTLVNRIELKGIDFKEDGNILGHKLEYNYNSHNVYIMADKQKNGIKVNFKIRHNIEDGSVQLADHYQQNTPIGDGPVLLPDNHYLSTQSALSKDPNEKRDHMVLLEFVTAAGITHGMDELYK\"\n",
        "\n",
        "# Predict structure using AlphaFold API\n",
        "async def post_fold_request(url: str, sequence: str):\n",
        "    payload = {\"sequence\": sequence}\n",
        "    async with aiohttp.ClientSession() as session:\n",
        "        async with session.post(url, json=payload, headers=headers, timeout=60*60) as response:\n",
        "            response_json = await response.json()\n",
        "            return response_json\n",
        "\n",
        "# AlphaFold URL\n",
        "alphafold_url = \"https://molecularmachines--colabfold-fastapi-app.modal.run/alphafold/monomer\"\n",
        "\n",
        "# Predict GFP structure\n",
        "response_data = await post_fold_request(alphafold_url, gfp_sequence)\n",
        "\n",
        "# Save predicted structure\n",
        "with open(\"predicted_gfp.pdb\", \"w\") as f:\n",
        "    f.write(response_data['results']['predicted_output'])\n",
        "\n",
        "# Load real and predicted structures into PyMOL\n",
        "pymol.finish_launching()\n",
        "cmd.fetch('1GFL', 'real_gfp')\n",
        "cmd.load('predicted_gfp.pdb', 'pred_gfp')\n",
        "cmd.align('pred_gfp', 'real_gfp')\n",
        "\n",
        "# Color and visualize\n",
        "cmd.color('cyan', 'real_gfp')  # Experimental structure in cyan\n",
        "cmd.color('magenta', 'pred_gfp')  # Predicted structure in magenta\n",
        "cmd.show('cartoon', 'real_gfp')\n",
        "cmd.show('cartoon', 'pred_gfp')\n",
        "cmd.png('gfp_real_vs_predicted.png')\n",
        "cmd.refresh()\n",
        "\n",
        "print(\"Comparison complete. Check the PyMOL visualization.\")\n"
      ],
      "metadata": {
        "id": "jB9ZHBBigZzh"
      },
      "execution_count": null,
      "outputs": []
    },
    {
      "cell_type": "code",
      "source": [
        "# Install required packages\n",
        "!pip install git+https://github.com/sokrypton/ColabDesign.git\n",
        "!pip install git+https://github.com/sokrypton/ColabFold.git\n",
        "!pip install torch torchvision torchaudio\n",
        "\n",
        "# Clone ProteinMPNN repository\n",
        "!git clone https://github.com/sokrypton/ColabDesign.git\n",
        "!git clone https://github.com/sokrypton/ProteinMPNN.git\n",
        "%cd ProteinMPNN\n",
        "!pip install -e .\n",
        "\n",
        "# Import necessary libraries\n",
        "import torch\n",
        "import numpy as np\n",
        "from colabdesign.mpnn import mk_mpnn_model\n",
        "from colabdesign.shared.protein import parse_pdb\n",
        "import os\n",
        "\n",
        "# Load GFP protein structure (PDB format)\n",
        "gfp_pdb = \"\"\"\\\n",
        "ATOM      1  N   MET A   1      20.154  30.399   5.673  1.00 32.20           N\n",
        "ATOM      2  CA  MET A   1      21.590  30.174   5.861  1.00 28.68           C\n",
        "ATOM      3  C   MET A   1      22.269  29.963   4.513  1.00 29.23           C\n",
        "... (trimmed for brevity, use full GFP PDB file here)\n",
        "\"\"\"\n",
        "\n",
        "# Save the GFP PDB file\n",
        "pdb_filename = \"gfp.pdb\"\n",
        "with open(pdb_filename, \"w\") as f:\n",
        "    f.write(gfp_pdb)\n",
        "\n",
        "# Load the model\n",
        "device = torch.device(\"cuda\" if torch.cuda.is_available() else \"cpu\")\n",
        "mpnn_model = mk_mpnn_model()\n",
        "mpnn_model.to(device)\n",
        "\n",
        "# Parse the PDB structure\n",
        "protein_structure = parse_pdb(pdb_filename)\n",
        "\n",
        "# Perform reverse folding\n",
        "num_seqs = 5  # Number of sequences to generate\n",
        "mpnn_seqs = mpnn_model.design(protein_structure, num=num_seqs)\n",
        "\n",
        "# Print the generated sequences\n",
        "for i, seq in enumerate(mpnn_seqs):\n",
        "    print(f\"Generated Sequence {i+1}: {seq}\")\n"
      ],
      "metadata": {
        "id": "70F4yksKxA_a"
      },
      "execution_count": null,
      "outputs": []
    },
    {
      "cell_type": "code",
      "source": [
        "# Install required packages\n",
        "!pip install git+https://github.com/sokrypton/ColabDesign.git\n",
        "!pip install git+https://github.com/sokrypton/ColabFold.git\n",
        "!pip install torch torchvision torchaudio biopython py3Dmol\n",
        "\n",
        "# Clone ProteinMPNN repository\n",
        "!git clone https://github.com/sokrypton/ColabDesign.git\n",
        "!git clone https://github.com/sokrypton/ProteinMPNN.git\n",
        "%cd ProteinMPNN\n",
        "!pip install -e .\n",
        "\n",
        "# Import necessary libraries\n",
        "import torch\n",
        "import numpy as np\n",
        "import py3Dmol\n",
        "from colabdesign.mpnn import mk_mpnn_model\n",
        "from colabdesign.shared.protein import parse_pdb\n",
        "from Bio import PDB\n",
        "import os\n",
        "\n",
        "# Load GFP protein structure (PDB format)\n",
        "gfp_pdb = \"\"\"\\\n",
        "ATOM      1  N   MET A   1      20.154  30.399   5.673  1.00 32.20           N\n",
        "ATOM      2  CA  MET A   1      21.590  30.174   5.861  1.00 28.68           C\n",
        "ATOM      3  C   MET A   1      22.269  29.963   4.513  1.00 29.23           C\n",
        "... (trimmed for brevity, use full GFP PDB file here)\n",
        "\"\"\"\n",
        "\n",
        "# Save the GFP PDB file\n",
        "pdb_filename = \"gfp.pdb\"\n",
        "with open(pdb_filename, \"w\") as f:\n",
        "    f.write(gfp_pdb)\n",
        "\n",
        "# Load the model\n",
        "device = torch.device(\"cuda\" if torch.cuda.is_available() else \"cpu\")\n",
        "mpnn_model = mk_mpnn_model()\n",
        "mpnn_model.to(device)\n",
        "\n",
        "# Parse the PDB structure\n",
        "protein_structure = parse_pdb(pdb_filename)\n",
        "\n",
        "# Perform reverse folding to generate sequences\n",
        "num_seqs = 5  # Number of sequences to generate\n",
        "mpnn_seqs = mpnn_model.design(protein_structure, num=num_seqs)\n",
        "\n",
        "# Save the first generated sequence as a FASTA file\n",
        "seq_filename = \"reverse_folded_gfp.fasta\"\n",
        "with open(seq_filename, \"w\") as f:\n",
        "    f.write(\">Reverse_Folded_GFP\\n\" + mpnn_seqs[0])\n",
        "\n",
        "# Print the generated sequence\n",
        "print(f\"Generated Reverse-Folded Sequence:\\n{mpnn_seqs[0]}\")\n",
        "\n",
        "# Visualizing the folded structure using py3Dmol\n",
        "def show_pdb(pdb_filename):\n",
        "    with open(pdb_filename, \"r\") as file:\n",
        "        pdb_content = file.read()\n",
        "\n",
        "    view = py3Dmol.view(width=600, height=600)\n",
        "    view.addModel(pdb_content, \"pdb\")\n",
        "    view.setStyle({\"cartoon\": {\"color\": \"spectrum\"}})\n",
        "    view.zoomTo()\n",
        "    return view.show()\n",
        "\n",
        "# Display the 3D folded structure\n",
        "show_pdb(pdb_filename)\n"
      ],
      "metadata": {
        "id": "exsWspJ4xiiG"
      },
      "execution_count": null,
      "outputs": []
    },
    {
      "source": [
        "# Install required packages\n",
        "!pip install git+https://github.com/sokrypton/ColabDesign.git\n",
        "!pip install git+https://github.com/sokrypton/ColabFold.git\n",
        "!pip install torch torchvision torchaudio biopython py3Dmol\n",
        "\n",
        "# Clone ProteinMPNN repository and install\n",
        "!git clone https://github.com/sokrypton/ColabDesign.git\n",
        "!git clone https://github.com/sokrypton/ProteinMPNN.git\n",
        "%cd ProteinMPNN\n",
        "!pip install -e .\n",
        "\n",
        "# Import necessary libraries\n",
        "import torch\n",
        "import numpy as np\n",
        "import py3Dmol\n",
        "from colabdesign.af.alphafold.common import protein # Import protein module from the correct location\n",
        "from Bio import PDB\n",
        "import os\n",
        "\n",
        "\n",
        "# Load GFP protein structure (PDB format)\n",
        "gfp_pdb = \"\"\"\\\n",
        "ATOM      1  N   MET A   1      20.154  30.399   5.673  1.00 32.20           N\n",
        "ATOM      2  CA  MET A   1      21.590  30.174   5.861  1.00 28.68           C\n",
        "ATOM      3  C   MET A   1      22.269  29.963   4.513  1.00 29.23           C\n",
        "... (trimmed for brevity, use full GFP PDB file here)\n",
        "\"\"\"\n",
        "\n",
        "# Save the GFP PDB file\n",
        "pdb_filename = \"gfp.pdb\"\n",
        "with open(pdb_filename, \"w\") as f:\n",
        "    f.write(gfp_pdb)\n",
        "\n",
        "# Load the model\n",
        "device = torch.device(\"cuda\" if torch.cuda.is_available() else \"cpu\")\n",
        "# Import mk_mpnn_model directly from colabdesign.mpnn\n",
        "from colabdesign.mpnn import mk_mpnn_model\n",
        "mpnn_model = mk_mpnn_model()\n",
        "mpnn_model.to(device)\n",
        "\n",
        "# Parse the PDB structure using protein.from_pdb_string\n",
        "protein_structure = protein.from_pdb_string(gfp_pdb)\n",
        "\n",
        "# Perform reverse folding to generate sequences\n",
        "num_seqs = 5  # Number of sequences to generate\n",
        "mpnn_seqs = mpnn_model.design(protein_structure, num=num_seqs)\n",
        "\n",
        "# Save the first generated sequence as a FASTA file\n",
        "seq_filename = \"reverse_folded_gfp.fasta\"\n",
        "with open(seq_filename, \"w\") as f:\n",
        "    f.write(\">Reverse_Folded_GFP\\n\" + mpnn_seqs[0])\n",
        "\n",
        "# Print the generated sequence\n",
        "print(f\"Generated Reverse-Folded Sequence:\\n{mpnn_seqs[0]}\")\n",
        "\n",
        "# Visualizing the folded structure using py3Dmol\n",
        "def show_pdb(pdb_filename):\n",
        "    with open(pdb_filename, \"r\") as file:\n",
        "        pdb_content = file.read()\n",
        "\n",
        "    view = py3Dmol.view(width=600, height=600)\n",
        "    view.addModel(pdb_content, \"pdb\")\n",
        "    view.setStyle({\"cartoon\": {\"color\": \"spectrum\"}})\n",
        "    view.zoomTo()\n",
        "    return view.show()\n",
        "\n",
        "# Display the 3D folded structure\n",
        "show_pdb(pdb_filename)"
      ],
      "cell_type": "code",
      "metadata": {
        "id": "JCpW5DjryEfE"
      },
      "execution_count": null,
      "outputs": []
    }
  ]
}