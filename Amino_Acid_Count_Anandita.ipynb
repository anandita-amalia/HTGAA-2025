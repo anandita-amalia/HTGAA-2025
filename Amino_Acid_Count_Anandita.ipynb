{
  "nbformat": 4,
  "nbformat_minor": 0,
  "metadata": {
    "colab": {
      "provenance": [],
      "include_colab_link": true
    },
    "kernelspec": {
      "name": "python3",
      "display_name": "Python 3"
    },
    "language_info": {
      "name": "python"
    }
  },
  "cells": [
    {
      "cell_type": "markdown",
      "metadata": {
        "id": "view-in-github",
        "colab_type": "text"
      },
      "source": [
        "<a href=\"https://colab.research.google.com/github/anandita-amalia/HTGAA-2025/blob/main/Amino_Acid_Count_Anandita.ipynb\" target=\"_parent\"><img src=\"https://colab.research.google.com/assets/colab-badge.svg\" alt=\"Open In Colab\"/></a>"
      ]
    },
    {
      "cell_type": "code",
      "execution_count": 1,
      "metadata": {
        "colab": {
          "base_uri": "https://localhost:8080/"
        },
        "id": "sdddCuuwJd8y",
        "outputId": "f12fa9a1-5b5f-407d-92a2-e72ab9c7b94c"
      },
      "outputs": [
        {
          "output_type": "stream",
          "name": "stdout",
          "text": [
            "length of the amino acid 284\n",
            "{'Y': 60, 'M': 41, 'R': 33, 'G': 25, 'N': 24, 'D': 23, 'W': 15, 'P': 13, 'Q': 13, 'S': 12, 'F': 10, 'H': 6, 'E': 4, 'C': 3, 'T': 1, 'V': 1, 'A': 0, 'a': 0, 'c': 0, 'd': 0, 'e': 0, 'f': 0, 'g': 0, 'h': 0, 'I': 0, 'i': 0, 'K': 0, 'k': 0, 'L': 0, 'l': 0, 'm': 0, 'n': 0, 'p': 0, 'q': 0, 'r': 0, 's': 0, 't': 0, 'v': 0, 'w': 0, 'y': 0, 'X': 0, 'x': 0}\n"
          ]
        }
      ],
      "source": [
        "protein_seq = \"MNRYMNRFRNFYGNMYRGRYRGMMEPMSRMTMDFQGRYMDSQGRMVDPRYYDYYGRFNDYDRYYGRSMFNYGWMMDGDRYNRYNRWMDFPERYMDMSGYQMDMYGRWMDMQGRHCNPYSQWMMYNYNRHGYYPNYSYGRHMFYPERWMDMSNYSMDMYGRYMDRWGRYCNPFYQFYNHWNRYGNYPGYYSYYYMYYPERYFDMSNWQMDMQGRWMDMQGRYCSPYWYNWYGRHMYYPYQNYYWYGRYDYPGMDYSNWQMDMQGRWMDMQGRYMDYPYNYYNWNH\"\n",
        "amino_acid_letters = ['A', 'a', 'C', 'c', 'D', 'd', 'E', 'e', 'F', 'f', 'G', 'g', 'H', 'h', 'I', 'i', 'K', 'k', 'L', 'l', 'M', 'm', 'N', 'n', 'P', 'p', 'Q', 'q', 'R', 'r', 'S', 's', 'T', 't', 'V', 'v', 'W', 'w', 'Y', 'y', \"X\", 'x']\n",
        "\n",
        "print(\"length of the amino acid {}\".format(len(protein_seq)))\n",
        "count_json = {}\n",
        "for letter in amino_acid_letters:\n",
        "  count_json[letter] = 0\n",
        "  for chaa in protein_seq:\n",
        "    if chaa==letter:\n",
        "      count_json[letter]+=1\n",
        "\n",
        "sorted_amino_acid_dict = dict(sorted(count_json.items(), key=lambda item: item[1], reverse=True))\n",
        "print(sorted_amino_acid_dict)"
      ]
    },
    {
      "cell_type": "code",
      "source": [],
      "metadata": {
        "id": "9EqcUqTUGmKx"
      },
      "execution_count": null,
      "outputs": []
    },
    {
      "cell_type": "code",
      "source": [],
      "metadata": {
        "id": "c7MzcVLRJa41"
      },
      "execution_count": null,
      "outputs": []
    }
  ]
}